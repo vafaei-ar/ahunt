{
 "cells": [
  {
   "cell_type": "code",
   "execution_count": 2,
   "metadata": {
    "id": "NJubH5bO1B4T"
   },
   "outputs": [],
   "source": [
    "import numpy as np\n",
    "import pylab as plt\n",
    "import tensorflow as tf\n",
    "from tensorflow import keras\n",
    "from tensorflow.keras import layers\n",
    "from sklearn.ensemble import IsolationForest\n",
    "from sklearn.metrics import confusion_matrix\n",
    "from tensorflow.keras.preprocessing.image import ImageDataGenerator\n",
    "\n",
    "def data_prepare(x,y,data_config):\n",
    "    dataset = []\n",
    "    labels = []\n",
    "    selects = []\n",
    "    for k,v in data_config.items():\n",
    "        filt = y==k\n",
    "        assert v<np.sum(filt), 'Requested data is not available, reduce the {} class'.format(k)\n",
    "        inds = np.argwhere(filt)[:,0]\n",
    "        np.random.shuffle(inds)\n",
    "        selceted = inds[:v]\n",
    "        dataset.extend(x[selceted])\n",
    "        labels.extend([k]*v)\n",
    "        selects.extend(selceted)\n",
    "    return np.delete(x, selects,axis=0),np.delete(y, selects,axis=0),np.array(dataset),np.array(labels)\n",
    "\n",
    "def describe_labels(y0):\n",
    "    y = y0+0\n",
    "    if y.ndim==2:\n",
    "        y = np.argmax(y,axis=1)\n",
    "    class_labels, nums = np.unique(y,return_counts=True)\n",
    "    n_calss = len(class_labels)\n",
    "    print('labels/numbers are:\\n',*['{:5s}/{:6d}\\n'.format(str(i),j) for i,j in zip(class_labels,nums)])\n",
    "    return n_calss\n",
    "\n",
    "def augment(aug,x):\n",
    "    aug.fit(x)\n",
    "    out = []\n",
    "    for i in x:\n",
    "        out.append(aug.random_transform(i))\n",
    "    return np.array(out)\n",
    "\n",
    "def balance_aug(x0,y0,aug=None,mixup=False):\n",
    "    x = x0+0\n",
    "    y = y0+0\n",
    "    class_labels, nums = np.unique(y,return_counts=True)\n",
    "    nmax = max(nums)\n",
    "    for i,(lbl,n0) in enumerate(zip(class_labels,nums)):\n",
    "        if nmax==n0:\n",
    "            continue\n",
    "        delta = nmax-n0\n",
    "        x_sub = x[y==lbl]\n",
    "        inds = np.arange(n0)\n",
    "        nrep = (nmax//len(inds))+1\n",
    "        inds = np.repeat(inds, nrep)\n",
    "        np.random.shuffle(inds)\n",
    "        inds = inds[:delta]\n",
    "        x_sub = x_sub[inds]\n",
    "        if not aug is None:\n",
    "            x_sub = augment(aug,x_sub)\n",
    "            \n",
    "        if mixup:\n",
    "            pass\n",
    "            \n",
    "        x = np.concatenate([x,x_sub],axis=0)\n",
    "        y = np.concatenate([y,delta*[lbl]],axis=0)\n",
    "    return x,y\n",
    "\n",
    "class DataFeed:\n",
    "    def __init__(self,x,y,aug = None):\n",
    "        self.x = x\n",
    "        self.y = y\n",
    "        self.aug = aug\n",
    "        self.nd,self.nx,self.ny,self.ch = x.shape\n",
    "        self.banance()\n",
    "        \n",
    "    def banance(self):\n",
    "        self.xb,self.yb = balance_aug(self.x,self.y,aug=self.aug)\n",
    "        self.ndb = self.xb.shape[0]\n",
    "    def __call__(self,num,reset=False):\n",
    "        if reset:\n",
    "            self.banance()\n",
    "        inds = np.arange(self.ndb)\n",
    "        np.random.shuffle(inds)\n",
    "        inds = inds[:num]\n",
    "        return self.xb[inds],self.yb[inds]\n",
    "\n",
    "def rws_score(outliers,v,n_o=None):\n",
    "    outliers = np.array(outliers)\n",
    "    if n_o is None:\n",
    "        n_o = int(np.sum(outliers))\n",
    "    b_s = np.arange(n_o)+1\n",
    "    o_ind = np.argsort(v)[::-1]\n",
    "    o_ind = o_ind[:n_o]\n",
    "    return 1.*np.sum(b_s*outliers[o_ind].reshape(-1))/np.sum(b_s)\n",
    "\n",
    "INIT_LR = 1e-3\n",
    "\n",
    "def lr_scheduler(epoch, lr):\n",
    "    return lr * 0.985\n",
    "\n",
    "import numpy as np\n",
    "\n",
    "class MixupGenerator():\n",
    "    def __init__(self, X_train, y_train, batch_size=32, alpha=0.2, shuffle=True, datagen=None):\n",
    "        self.X_train = X_train\n",
    "        self.y_train = y_train\n",
    "        self.batch_size = batch_size\n",
    "        self.alpha = alpha\n",
    "        self.shuffle = shuffle\n",
    "        self.sample_num = len(X_train)\n",
    "        self.datagen = datagen\n",
    "\n",
    "    def __call__(self):\n",
    "        while True:\n",
    "            indexes = self.__get_exploration_order()\n",
    "            itr_num = int(len(indexes) // (self.batch_size * 2))\n",
    "\n",
    "            for i in range(itr_num):\n",
    "                batch_ids = indexes[i * self.batch_size * 2:(i + 1) * self.batch_size * 2]\n",
    "                X, y = self.__data_generation(batch_ids)\n",
    "\n",
    "                yield X, y\n",
    "\n",
    "    def __get_exploration_order(self):\n",
    "        indexes = np.arange(self.sample_num)\n",
    "\n",
    "        if self.shuffle:\n",
    "            np.random.shuffle(indexes)\n",
    "\n",
    "        return indexes\n",
    "\n",
    "    def __data_generation(self, batch_ids):\n",
    "        _, h, w, c = self.X_train.shape\n",
    "        l = np.random.beta(self.alpha, self.alpha, self.batch_size)\n",
    "        X_l = l.reshape(self.batch_size, 1, 1, 1)\n",
    "        y_l = l.reshape(self.batch_size, 1)\n",
    "\n",
    "        X1 = self.X_train[batch_ids[:self.batch_size]]\n",
    "        X2 = self.X_train[batch_ids[self.batch_size:]]\n",
    "        X = X1 * X_l + X2 * (1 - X_l)\n",
    "\n",
    "        if self.datagen:\n",
    "            for i in range(self.batch_size):\n",
    "                X[i] = self.datagen.random_transform(X[i])\n",
    "                X[i] = self.datagen.standardize(X[i])\n",
    "\n",
    "        if isinstance(self.y_train, list):\n",
    "            y = []\n",
    "\n",
    "            for y_train_ in self.y_train:\n",
    "                y1 = y_train_[batch_ids[:self.batch_size]]\n",
    "                y2 = y_train_[batch_ids[self.batch_size:]]\n",
    "                y.append(y1 * y_l + y2 * (1 - y_l))\n",
    "        else:\n",
    "            y1 = self.y_train[batch_ids[:self.batch_size]]\n",
    "            y2 = self.y_train[batch_ids[self.batch_size:]]\n",
    "            y = y1 * y_l + y2 * (1 - y_l)\n",
    "\n",
    "        return X, y\n",
    "    \n",
    "def mixup(x0,y0,alpha,beta,num_classes=None):\n",
    "    x = x0+0\n",
    "    y = y0+0\n",
    "    \n",
    "    tocat = False\n",
    "    if y.ndim==1:\n",
    "        y = keras.utils.to_categorical(y,num_classes=num_classes)\n",
    "        tocat = True\n",
    "        print('The labels are converted into categorical')\n",
    "\n",
    "    class_labels, nums = np.unique(y,return_counts=True)\n",
    "    # print(class_labels, nums)\n",
    "\n",
    "    \n",
    "    nums = np.sum(y,axis=0)\n",
    "\n",
    "    nmax = max(nums)\n",
    "    # for i,(lbl,n0) in enumerate(zip(class_labels,nums)):\n",
    "    for i,n0 in enumerate(nums):\n",
    "\n",
    "        if nmax==n0 or n0==0:\n",
    "            continue\n",
    "        delta = int(nmax-n0)\n",
    "        \n",
    "        x_sub = x[y[:,i].astype(bool)]\n",
    "        y_sub = y[y[:,i].astype(bool)]\n",
    "\n",
    "        inds = np.arange(n0)\n",
    "        nrep = (nmax//len(inds))\n",
    "        inds = np.repeat(inds, nrep)\n",
    "        np.random.shuffle(inds)\n",
    "        inds = inds[:delta].astype(int)\n",
    "\n",
    "        x_sub = x_sub[inds]\n",
    "        y_sub = y_sub[inds]\n",
    "\n",
    "        b = np.random.beta(alpha,beta,delta)[:,None]\n",
    "\n",
    "        inds = np.arange(x.shape[0])\n",
    "        np.random.shuffle(inds)\n",
    "        inds = inds[:delta]\n",
    "        xt = x[inds]\n",
    "        yt = y[inds]\n",
    "\n",
    "        if x.ndim==2:\n",
    "            x_sub = b[:,:]*x_sub+(1-b[:,:])*xt\n",
    "        elif x.ndim==3:\n",
    "            x_sub = b[:,:,None]*x_sub+(1-b[:,:,None])*xt\n",
    "        elif x.ndim==4:\n",
    "            x_sub = b[:,:,None,None]*x_sub+(1-b[:,:,None,None])*xt\n",
    "        else:\n",
    "            assert 0,'The shape is not as expected! {}-{}'.format(x.shape,x_sub.shape)\n",
    "        \n",
    "        y_sub = b*y_sub+(1-b)*yt\n",
    "\n",
    "        x = np.concatenate([x,x_sub],axis=0)\n",
    "        y = np.concatenate([y,y_sub],axis=0)\n",
    "#     if tocat:\n",
    "#         y = np.argmax(y,axis=1)\n",
    "    return x,y\n",
    "\n",
    "\n",
    "# callbacks = [\n",
    "#     LearningRateScheduler(lr_scheduler, verbose=1)\n",
    "# ]\n",
    "def build_model(shape,n_class,n_latent = 64):\n",
    " \n",
    "    inp = keras.Input(shape=shape, name=\"input\")\n",
    "    x = layers.Dense(128, activation=\"relu\")(inp)\n",
    "    latent = layers.Dense(n_latent, activation=\"relu\")(x)\n",
    "    dop = layers.Dropout(0.6)(latent)\n",
    "    out = layers.Dense(n_class, activation=\"softmax\")(dop)\n",
    "    # out = layers.Dense(n_class, activation=\"sigmoid\")(dop)\n",
    "\n",
    "\n",
    "    clf = keras.Model(inputs=inp, outputs=out, name=\"Classifier\")\n",
    "    drt = keras.Model(inputs=inp, outputs=latent, name=\"DimensionalityReducer\")\n",
    "\n",
    "#     clf.summary()\n",
    "\n",
    "    clf.compile(\n",
    "    #     loss=keras.losses.BinaryCrossentropy(),\n",
    "        loss=keras.losses.CategoricalCrossentropy(),\n",
    "        optimizer='adam',\n",
    "        metrics=[\"accuracy\"],\n",
    "    )\n",
    "    return clf,drt\n",
    "\n",
    "def iforest_get_anomalies(z):\n",
    "    isof = IsolationForest()\n",
    "    isof.fit(z)\n",
    "    scores_pred = isof.decision_function(z)\n",
    "    scores_pred = scores_pred.max()-scores_pred\n",
    "    return scores_pred\n",
    "\n",
    "report_template = 'iforest RWS on the raw data is mean {:2.2f}, lower {:2.2f}, upper {:2.2f}'"
   ]
  },
  {
   "cell_type": "code",
   "execution_count": 3,
   "metadata": {},
   "outputs": [],
   "source": [
    "# It shows how beta distribution is:\n",
    "# plt.hist(np.random.beta(20,1,1000))"
   ]
  },
  {
   "cell_type": "code",
   "execution_count": 4,
   "metadata": {},
   "outputs": [],
   "source": [
    "aug = ImageDataGenerator(\n",
    "    rotation_range=15,\n",
    "    width_shift_range=0.03,\n",
    "    height_shift_range=0.03,\n",
    "#     brightness_range=0.01,\n",
    "#        shear_range=0.0,\n",
    "    zoom_range=0.03,\n",
    "#     horizontal_flip=True,\n",
    "#     vertical_flip=True,\n",
    "    fill_mode=\"nearest\")"
   ]
  },
  {
   "cell_type": "code",
   "execution_count": 4,
   "metadata": {
    "colab": {
     "base_uri": "https://localhost:8080/",
     "height": 200
    },
    "id": "2epeZX8D02HD",
    "outputId": "226c9b49-20b0-4d33-d978-9d02b5ace13e"
   },
   "outputs": [
    {
     "name": "stdout",
     "output_type": "stream",
     "text": [
      "(10000, 28, 28, 1) (10000,)\n",
      "(8297, 28, 28, 1) (8297,) (1703, 28, 28, 1) (1703,)\n",
      "\n",
      "\n",
      "(60000, 28, 28, 1) (60000,)\n",
      "(50800, 28, 28, 1) (50800,) (9200, 28, 28, 1) (9200,)\n"
     ]
    }
   ],
   "source": [
    "noise = 0.5\n",
    "\n",
    "(x_train, y_train), (x_test, y_test) = tf.keras.datasets.mnist.load_data(path=\"mnist.npz\")\n",
    "n_train = len(x_train)\n",
    "\n",
    "x_train = x_train/255\n",
    "x_test = x_test/255\n",
    "\n",
    "x_train += np.random.normal(0,noise,x_train.shape)\n",
    "x_test += np.random.normal(0,noise,x_test.shape)\n",
    "\n",
    "x_train = x_train[:,:,:,None]\n",
    "x_test = x_test[:,:,:,None]\n",
    "\n",
    "print(x_test.shape, y_test.shape)\n",
    "data_config = {0:800,1:900,2:3}\n",
    "x_test, y_test, x_obs1, y_obs1 = data_prepare(x_test,y_test,data_config)\n",
    "print(x_test.shape, y_test.shape,x_obs1.shape, y_obs1.shape)\n",
    "print()\n",
    "print()\n",
    "print(x_train.shape, y_train.shape)\n",
    "data_config = {0:4000,1:5000,2:200}\n",
    "x_train, y_train, x_obs2, y_obs2 = data_prepare(x_train,y_train,data_config)\n",
    "print(x_train.shape, y_train.shape, x_obs2.shape, y_obs2.shape)\n",
    "outliers = [2]"
   ]
  },
  {
   "cell_type": "code",
   "execution_count": 5,
   "metadata": {},
   "outputs": [],
   "source": [
    "# This shows how augmentation and mixup -upsampling work\n",
    "# x0 = x_obs1+0\n",
    "# y0 = y_obs1+0\n",
    "# n_class = describe_labels(y_obs1)\n",
    "# x,y = balance_aug(x_obs1,y_obs1,aug)\n",
    "# n_class = describe_labels(y)\n",
    "\n",
    "# x0 = x_obs1+0\n",
    "# y0 = y_obs1+0\n",
    "# alpha = 20\n",
    "# beta = 1\n",
    "# n_class = describe_labels(y_obs1)\n",
    "# x,y = mixup(x_obs1,y_obs1)\n",
    "# n_class = describe_labels(y)"
   ]
  },
  {
   "cell_type": "code",
   "execution_count": 6,
   "metadata": {},
   "outputs": [],
   "source": [
    "# df = DataFeed(x_obs1,y_obs1,aug)"
   ]
  },
  {
   "cell_type": "code",
   "execution_count": 7,
   "metadata": {
    "colab": {
     "base_uri": "https://localhost:8080/",
     "height": 200
    },
    "id": "2epeZX8D02HD",
    "outputId": "226c9b49-20b0-4d33-d978-9d02b5ace13e"
   },
   "outputs": [],
   "source": [
    "# Take look into several samples\n",
    "# nx = 20\n",
    "# ny = 5\n",
    "# fig,axs = plt.subplots(ny,nx,figsize=(nx,ny+2))\n",
    "# for i in range(ny):\n",
    "#     for j in range(nx):\n",
    "# #         img,lbl = df(1)\n",
    "#         ir = np.random.randint(x.shape[0])\n",
    "#         img,lbl = x[ir,:,:,0],np.argmax(y[ir])\n",
    "#         axs[i,j].imshow(img.reshape(28,28),cmap='gray')\n",
    "#         axs[i,j].set_title(str(lbl),fontsize=15)\n",
    "#         axs[i,j].set_axis_off()"
   ]
  },
  {
   "cell_type": "code",
   "execution_count": 8,
   "metadata": {
    "id": "A9VKpTaoACm5"
   },
   "outputs": [],
   "source": [
    "inlabels = np.setdiff1d(list(data_config.keys()),outliers)\n",
    "\n",
    "out1 = np.isin(y_obs1,outliers)\n",
    "out2 = np.isin(y_obs2,outliers)\n",
    "# labels = np.logical_not(outlires)"
   ]
  },
  {
   "cell_type": "markdown",
   "metadata": {},
   "source": [
    "### iforest on the raw data (obs1)"
   ]
  },
  {
   "cell_type": "code",
   "execution_count": 9,
   "metadata": {
    "colab": {
     "base_uri": "https://localhost:8080/"
    },
    "id": "4gG8vBV6ACe5",
    "outputId": "5e0c8d27-6b8d-45f6-b211-09bd7085d433"
   },
   "outputs": [
    {
     "name": "stdout",
     "output_type": "stream",
     "text": [
      "iforest RWS on the raw data is mean 0.00, lower 0.00, upper 0.00\n"
     ]
    }
   ],
   "source": [
    "xx = x_obs1.reshape(x_obs1.shape[0],-1)\n",
    "rwss = []\n",
    "for _ in range(10):\n",
    "    scores_pred = iforest_get_anomalies(xx)\n",
    "    rwss.append(rws_score(out1,scores_pred))\n",
    "print(report_template.format(np.mean(rwss),\n",
    "                             np.percentile(rwss,5),\n",
    "                             np.percentile(rwss,95)))"
   ]
  },
  {
   "cell_type": "markdown",
   "metadata": {},
   "source": [
    "### iforest on the raw data (obs2)"
   ]
  },
  {
   "cell_type": "code",
   "execution_count": 10,
   "metadata": {},
   "outputs": [
    {
     "name": "stdout",
     "output_type": "stream",
     "text": [
      "iforest RWS on the raw data is mean 0.04, lower 0.02, upper 0.07\n"
     ]
    }
   ],
   "source": [
    "xx = x_obs2.reshape(x_obs2.shape[0],-1)\n",
    "rwss = []\n",
    "for _ in range(10):\n",
    "    scores_pred = iforest_get_anomalies(xx)\n",
    "    rwss.append(rws_score(out2,scores_pred))\n",
    "print(report_template.format(np.mean(rwss),\n",
    "                             np.percentile(rwss,5),\n",
    "                             np.percentile(rwss,95)))"
   ]
  },
  {
   "cell_type": "markdown",
   "metadata": {},
   "source": [
    "### now we train a classifier on obs1"
   ]
  },
  {
   "cell_type": "markdown",
   "metadata": {},
   "source": [
    "You can use either augmentation or mixup"
   ]
  },
  {
   "cell_type": "code",
   "execution_count": 11,
   "metadata": {},
   "outputs": [
    {
     "name": "stdout",
     "output_type": "stream",
     "text": [
      "labels/numbers are:\n",
      " 0    /   800\n",
      " 1    /   900\n",
      " 2    /     3\n",
      "\n",
      "The labels are converted into categorical\n",
      "labels/numbers are:\n",
      " 0    /   900\n",
      " 1    /   900\n",
      " 2    /   900\n",
      "\n"
     ]
    },
    {
     "data": {
      "text/plain": [
       "[<matplotlib.lines.Line2D at 0x7f0740315550>]"
      ]
     },
     "execution_count": 11,
     "metadata": {},
     "output_type": "execute_result"
    },
    {
     "data": {
      "image/png": "[encoded data removed]",
      "text/plain": [
       "<Figure size 1080x360 with 2 Axes>"
      ]
     },
     "metadata": {
      "needs_background": "light"
     },
     "output_type": "display_data"
    }
   ],
   "source": [
    "clf,drt = build_model(shape=(28*28),n_class=3,n_latent = 64)\n",
    "\n",
    "n_class = describe_labels(y_obs1)\n",
    "# xx,yy = balance_aug(x_obs1,y_obs1,aug)\n",
    "xx,yy = mixup(x_obs1,y_obs1,alpha=20,beta=1)\n",
    "n_class = describe_labels(yy)\n",
    "xx = xx.reshape(xx.shape[0],-1)\n",
    "# yy = keras.utils.to_categorical(yy, num_classes=n_class,)\n",
    "\n",
    "history = clf.fit(xx, yy, batch_size=256, epochs=30, validation_split=0.2,verbose=0)\n",
    " \n",
    "fig,(ax1,ax2) = plt.subplots(1,2,figsize=(15,5))\n",
    "ax1.plot(history.history['loss'],'r')\n",
    "ax2.plot(history.history['accuracy'],'r')\n",
    "ax1.plot(history.history['val_loss'],'b')\n",
    "ax2.plot(history.history['val_accuracy'],'b')"
   ]
  },
  {
   "cell_type": "markdown",
   "metadata": {},
   "source": [
    "### iforest on the latent space of obs1"
   ]
  },
  {
   "cell_type": "code",
   "execution_count": 12,
   "metadata": {},
   "outputs": [
    {
     "name": "stdout",
     "output_type": "stream",
     "text": [
      "iforest RWS on the raw data is mean 1.00, lower 1.00, upper 1.00\n"
     ]
    }
   ],
   "source": [
    "xx = x_obs1.reshape(x_obs1.shape[0],-1)\n",
    "z = drt.predict(xx)\n",
    "rwss = []\n",
    "for _ in range(10):\n",
    "    scores_pred = iforest_get_anomalies(z)\n",
    "    rwss.append(rws_score(out1,scores_pred))\n",
    "print(report_template.format(np.mean(rwss),\n",
    "                             np.percentile(rwss,5),\n",
    "                             np.percentile(rwss,95)))"
   ]
  },
  {
   "cell_type": "markdown",
   "metadata": {},
   "source": [
    "### iforest on the latent space of obs2"
   ]
  },
  {
   "cell_type": "code",
   "execution_count": 13,
   "metadata": {},
   "outputs": [
    {
     "name": "stdout",
     "output_type": "stream",
     "text": [
      "iforest RWS on the raw data is mean 0.18, lower 0.11, upper 0.24\n"
     ]
    }
   ],
   "source": [
    "xx = x_obs2.reshape(x_obs2.shape[0],-1)\n",
    "z = drt.predict(xx)\n",
    "rwss = []\n",
    "for _ in range(10):\n",
    "    scores_pred = iforest_get_anomalies(z)\n",
    "    rwss.append(rws_score(out2,scores_pred))\n",
    "print(report_template.format(np.mean(rwss),\n",
    "                             np.percentile(rwss,5),\n",
    "                             np.percentile(rwss,95)))"
   ]
  },
  {
   "cell_type": "markdown",
   "metadata": {},
   "source": [
    "### or instead of using iforest we can use the third class predicted probability as anomaly score in obs2"
   ]
  },
  {
   "cell_type": "code",
   "execution_count": 14,
   "metadata": {},
   "outputs": [
    {
     "name": "stdout",
     "output_type": "stream",
     "text": [
      "0.22064676616915424\n"
     ]
    }
   ],
   "source": [
    "xx = x_obs2.reshape(x_obs2.shape[0],-1)\n",
    "z = clf.predict(xx)\n",
    "\n",
    "# z = np.argmax(z,axis=1)\n",
    "# z = np.isin(z,outliers)\n",
    "z = z[:,n_class-1]\n",
    "\n",
    "print(rws_score(out2,z))"
   ]
  },
  {
   "cell_type": "code",
   "execution_count": 15,
   "metadata": {},
   "outputs": [],
   "source": [
    "# confusion_matrix(y_obs2,np.argmax(clf.predict(xx),axis=1))"
   ]
  },
  {
   "cell_type": "code",
   "execution_count": 16,
   "metadata": {},
   "outputs": [],
   "source": [
    "# n_conf = 5\n",
    "\n",
    "# # pred = np.round(np.concatenate([z[np.argsort(z)[:n_conf]],z[np.argsort(z)[-n_conf:]]]))\n",
    "# # truth = np.concatenate([out2[np.argsort(z)[:n_conf]],out2[np.argsort(z)[-n_conf:]]])\n",
    "# # print('Similarity is {:2.2f}%'.format(np.mean(pred==truth)))\n",
    "# xx = x_obs2.reshape(x_obs2.shape[0],-1)\n",
    "\n",
    "# z_clf = clf.predict(xx)\n",
    "# scr_ano = z_clf[:,n_class-1]\n",
    "# print(rws_score(out2,scr_ano))\n",
    "\n",
    "# z_drt = drt.predict(xx)\n",
    "# scr_ano = iforest_get_anomalies(z_drt)\n",
    "# print(rws_score(out2,scr_ano))"
   ]
  },
  {
   "cell_type": "markdown",
   "metadata": {},
   "source": [
    "### we also can use normal/anomaly as labels instead of the real labels"
   ]
  },
  {
   "cell_type": "code",
   "execution_count": 17,
   "metadata": {},
   "outputs": [
    {
     "name": "stdout",
     "output_type": "stream",
     "text": [
      "labels/numbers are:\n",
      " 0    /   800\n",
      " 1    /   900\n",
      " 2    /     3\n",
      "\n",
      "labels/numbers are:\n",
      " 0    /  1700\n",
      " 1    /  1700\n",
      "\n"
     ]
    },
    {
     "data": {
      "text/plain": [
       "[<matplotlib.lines.Line2D at 0x7f073022d3d0>]"
      ]
     },
     "execution_count": 17,
     "metadata": {},
     "output_type": "execute_result"
    },
    {
     "data": {
      "image/png": "[encoded data removed]",
      "text/plain": [
       "<Figure size 1080x360 with 2 Axes>"
      ]
     },
     "metadata": {
      "needs_background": "light"
     },
     "output_type": "display_data"
    }
   ],
   "source": [
    "clf,drt = build_model(shape=(28*28),n_class=2,n_latent = 64)\n",
    "\n",
    "n_class = describe_labels(y_obs1)\n",
    "xx,yy = balance_aug(x_obs1,out1,aug)\n",
    "n_class = describe_labels(yy)\n",
    "\n",
    "xx = xx.reshape(xx.shape[0],-1)\n",
    "yy = keras.utils.to_categorical(yy)\n",
    "\n",
    "history = clf.fit(xx, yy, batch_size=256, epochs=30, validation_split=0.2,verbose=0)\n",
    " \n",
    "fig,(ax1,ax2) = plt.subplots(1,2,figsize=(15,5))\n",
    "ax1.plot(history.history['loss'],'r')\n",
    "ax2.plot(history.history['accuracy'],'r')\n",
    "ax1.plot(history.history['val_loss'],'b')\n",
    "ax2.plot(history.history['val_accuracy'],'b')"
   ]
  },
  {
   "cell_type": "code",
   "execution_count": 18,
   "metadata": {},
   "outputs": [
    {
     "name": "stdout",
     "output_type": "stream",
     "text": [
      "0.48771144278606965\n"
     ]
    }
   ],
   "source": [
    "xx = x_obs2.reshape(x_obs2.shape[0],-1)\n",
    "z = clf.predict(xx)\n",
    "z = z[:,n_class-1]\n",
    "print(rws_score(out2,z))"
   ]
  },
  {
   "cell_type": "code",
   "execution_count": 19,
   "metadata": {},
   "outputs": [],
   "source": [
    "# confusion_matrix(out2,np.argmax(clf.predict(xx),axis=1))"
   ]
  },
  {
   "cell_type": "markdown",
   "metadata": {},
   "source": [
    "the old version of human in the loop:"
   ]
  },
  {
   "cell_type": "code",
   "execution_count": 20,
   "metadata": {},
   "outputs": [],
   "source": [
    "# n_conf = 5\n",
    "\n",
    "# pred = np.round(np.concatenate([z[np.argsort(z)[:n_conf]],z[np.argsort(z)[-n_conf:]]]))\n",
    "# truth = np.concatenate([out2[np.argsort(z)[:n_conf]],out2[np.argsort(z)[-n_conf:]]])\n",
    "# print('Similarity is {:2.2f}%'.format(np.mean(pred==truth)))\n",
    "\n",
    "# x1 = x_obs2[np.argsort(z)[:n_conf]]\n",
    "# x2 = x_obs2[np.argsort(z)[-n_conf:]]\n",
    "# x_new = np.concatenate([x1,x2],axis=0)\n",
    "# y_new = np.array(n_conf*[0]+n_conf*[1])\n",
    "# x_new = np.concatenate([x_obs1,x_new],axis=0)\n",
    "# y_new = np.concatenate([out1,y_new],axis=0)\n",
    "# n_class = describe_labels(y_new)\n",
    "# xx,yy = balance_aug(x_new,y_new,aug)\n",
    "# n_class = describe_labels(yy)\n",
    "\n"
   ]
  },
  {
   "cell_type": "code",
   "execution_count": 21,
   "metadata": {},
   "outputs": [],
   "source": [
    "# xx = xx.reshape(xx.shape[0],-1)\n",
    "# yy = keras.utils.to_categorical(yy)\n",
    "\n",
    "# history = clf.fit(xx, yy, batch_size=256, epochs=30, validation_split=0.2,verbose=0)\n",
    " \n",
    "# fig,(ax1,ax2) = plt.subplots(1,2,figsize=(15,5))\n",
    "# ax1.plot(history.history['loss'],'r')\n",
    "# ax2.plot(history.history['accuracy'],'r')\n",
    "# ax1.plot(history.history['val_loss'],'b')\n",
    "# ax2.plot(history.history['val_accuracy'],'b')"
   ]
  },
  {
   "cell_type": "code",
   "execution_count": 22,
   "metadata": {},
   "outputs": [],
   "source": [
    "# xx = x_obs2.reshape(x_obs2.shape[0],-1)\n",
    "# z = clf.predict(xx)\n",
    "# z = z[:,n_class-1]\n",
    "# print(rws_score(out2,z))"
   ]
  },
  {
   "cell_type": "code",
   "execution_count": 23,
   "metadata": {},
   "outputs": [],
   "source": [
    "# n_conf = 5\n",
    "\n",
    "# pred = np.round(np.concatenate([z[np.argsort(z)[:n_conf]],z[np.argsort(z)[-n_conf:]]]))\n",
    "# truth = np.concatenate([out2[np.argsort(z)[:n_conf]],out2[np.argsort(z)[-n_conf:]]])\n",
    "# print('Similarity is {:2.2f}%'.format(np.mean(pred==truth)))\n",
    "\n",
    "# x_old,y_old = x_new+0,y_new+0\n",
    "# x1 = x_obs2[np.argsort(z)[:n_conf]]\n",
    "# x2 = x_obs2[np.argsort(z)[-n_conf:]]\n",
    "# x_new = np.concatenate([x1,x2],axis=0)\n",
    "# y_new = np.array(n_conf*[0]+n_conf*[1])\n",
    "# x_new = np.concatenate([x_old,x_new],axis=0)\n",
    "# y_new = np.concatenate([y_old,y_new],axis=0)\n",
    "# n_class = describe_labels(y_new)\n",
    "# xx,yy = balance_aug(x_new,y_new,aug)\n",
    "# n_class = describe_labels(yy)\n",
    "\n",
    "# xx = xx.reshape(xx.shape[0],-1)\n",
    "# yy = keras.utils.to_categorical(yy)\n",
    "\n",
    "# history = clf.fit(xx, yy, batch_size=256, epochs=30, validation_split=0.2,verbose=0)\n",
    " \n",
    "# fig,(ax1,ax2) = plt.subplots(1,2,figsize=(15,5))\n",
    "# ax1.plot(history.history['loss'],'r')\n",
    "# ax2.plot(history.history['accuracy'],'r')\n",
    "# ax1.plot(history.history['val_loss'],'b')\n",
    "# ax2.plot(history.history['val_accuracy'],'b')"
   ]
  },
  {
   "cell_type": "code",
   "execution_count": 24,
   "metadata": {},
   "outputs": [],
   "source": [
    "# xx = x_obs2.reshape(x_obs2.shape[0],-1)\n",
    "# z = clf.predict(xx)\n",
    "# z = z[:,n_class-1]\n",
    "# print(rws_score(out2,z))"
   ]
  },
  {
   "cell_type": "markdown",
   "metadata": {},
   "source": [
    "# Human in the loop (version 2)"
   ]
  },
  {
   "cell_type": "markdown",
   "metadata": {},
   "source": [
    "### Data prep"
   ]
  },
  {
   "cell_type": "code",
   "execution_count": 25,
   "metadata": {},
   "outputs": [
    {
     "name": "stdout",
     "output_type": "stream",
     "text": [
      "(10000, 28, 28) (10000,)\n",
      "(8300, 28, 28) (8300,) (1700, 28, 28) (1700,)\n",
      "\n",
      "\n",
      "(60000, 28, 28) (60000,)\n",
      "(50800, 28, 28) (50800,) (9200, 28, 28) (9200,)\n",
      "labels/numbers are:\n",
      " 0    /   800\n",
      " 1    /   900\n",
      "\n",
      "labels/numbers are:\n",
      " 0    /  4000\n",
      " 1    /  5000\n",
      " 2    /   200\n",
      "\n"
     ]
    }
   ],
   "source": [
    "(x_train, y_train), (x_test, y_test) = tf.keras.datasets.mnist.load_data(path=\"mnist.npz\")\n",
    "n_train = len(x_train)\n",
    "\n",
    "print(x_test.shape, y_test.shape)\n",
    "data_config = {0:800,1:900,2:0}\n",
    "\n",
    "x_test, y_test, x_obs1, y_obs1 = data_prepare(x_test,y_test,data_config)\n",
    "print(x_test.shape, y_test.shape,x_obs1.shape, y_obs1.shape)\n",
    "print()\n",
    "print()\n",
    "print(x_train.shape, y_train.shape)\n",
    "data_config = {0:4000,1:5000,2:200}\n",
    "x_train, y_train, x_obs2, y_obs2 = data_prepare(x_train,y_train,data_config)\n",
    "print(x_train.shape, y_train.shape, x_obs2.shape, y_obs2.shape)\n",
    "x_obs1 = x_obs1[:,:,:,None]\n",
    "x_obs2 = x_obs2[:,:,:,None]\n",
    "\n",
    "noise = 0.1\n",
    "\n",
    "x_obs1 = x_obs1/255\n",
    "x_obs2 = x_obs2/255\n",
    "x_obs1 += np.random.normal(0,noise,x_obs1.shape)\n",
    "x_obs2 += np.random.normal(0,noise,x_obs2.shape)\n",
    "outliers = [2]\n",
    "\n",
    "n_class = describe_labels(y_obs1)\n",
    "n_class = describe_labels(y_obs2)"
   ]
  },
  {
   "cell_type": "markdown",
   "metadata": {},
   "source": [
    "# if model keep training"
   ]
  },
  {
   "cell_type": "markdown",
   "metadata": {},
   "source": [
    "### augmentation"
   ]
  },
  {
   "cell_type": "code",
   "execution_count": 26,
   "metadata": {},
   "outputs": [],
   "source": [
    "epochs = 2"
   ]
  },
  {
   "cell_type": "code",
   "execution_count": 27,
   "metadata": {},
   "outputs": [
    {
     "data": {
      "text/plain": [
       "Text(0, 0.5, 'Human added on top 10')"
      ]
     },
     "execution_count": 27,
     "metadata": {},
     "output_type": "execute_result"
    },
    {
     "data": {
      "image/png": "[encoded data removed]",
      "text/plain": [
       "<Figure size 1008x360 with 2 Axes>"
      ]
     },
     "metadata": {
      "needs_background": "light"
     },
     "output_type": "display_data"
    }
   ],
   "source": [
    "clf,drt = build_model(shape=(28*28),n_class=3,n_latent = 64)\n",
    "\n",
    "n_conf = 10\n",
    "x_obs1p = x_obs1.reshape(x_obs1.shape[0],-1)\n",
    "y_obs1p = y_obs1+0\n",
    "x_obs2p = x_obs2.reshape(x_obs2.shape[0],-1)\n",
    "y_obs2p = y_obs2+0\n",
    "\n",
    "rwss = []\n",
    "true_guess = []\n",
    "\n",
    "for _ in range(10):\n",
    "    x_obs1p = x_obs1p.reshape(-1,28,28,1)\n",
    "    xx,yy = balance_aug(x_obs1p,y_obs1p,aug)\n",
    "    x_obs1p = x_obs1p.reshape(-1,784)\n",
    "    xx = xx.reshape(-1,784)\n",
    "    yy = keras.utils.to_categorical(yy, num_classes=n_class,)\n",
    "    history = clf.fit(xx, yy, batch_size=256, epochs=epochs, validation_split=0.2,verbose=0)\n",
    "    acc = history.history['accuracy'][-1]\n",
    "\n",
    "    out2 = np.isin(y_obs2p,outliers)\n",
    "    z_clf = clf.predict(x_obs2p)\n",
    "    scr_ano = z_clf[:,n_class-1]\n",
    "    rws = rws_score(out2,scr_ano)\n",
    "\n",
    "#     print('acc:{:2.2f}, rws:{:2.2f}'.format(acc,rws))\n",
    "    rwss.append(rws)\n",
    "\n",
    "    # This is where the human act\n",
    "    inds = np.intersect1d(np.argsort(scr_ano)[-n_conf:],np.argwhere(out2)[:,0])\n",
    "    true_guess.append(len(inds))\n",
    "    x_obs1p = np.concatenate([x_obs2p[inds],x_obs1p],axis=0)\n",
    "    y_obs1p = np.concatenate([y_obs2p[inds],y_obs1p],axis=0)\n",
    "\n",
    "    x_obs2p = np.delete(x_obs2p,inds,axis=0)\n",
    "    y_obs2p = np.delete(y_obs2p,inds,axis=0)\n",
    "\n",
    "fig,(ax1,ax2) = plt.subplots(1,2,figsize=(14,5))\n",
    "ax1.plot(rwss)\n",
    "ax1.set_ylabel('RWS',fontsize=15)\n",
    "ax2.plot(true_guess)\n",
    "ax2.set_ylabel('Human added on top 10',fontsize=15)"
   ]
  },
  {
   "cell_type": "code",
   "execution_count": 28,
   "metadata": {},
   "outputs": [
    {
     "data": {
      "text/plain": [
       "<matplotlib.legend.Legend at 0x7f073023d490>"
      ]
     },
     "execution_count": 28,
     "metadata": {},
     "output_type": "execute_result"
    },
    {
     "data": {
      "image/png": "[encoded data removed]",
      "text/plain": [
       "<Figure size 432x288 with 1 Axes>"
      ]
     },
     "metadata": {
      "needs_background": "light"
     },
     "output_type": "display_data"
    }
   ],
   "source": [
    "plt.hist(scr_ano[out2],color='b',alpha=0.5,label='anomalies',density=True)\n",
    "plt.hist(scr_ano[~out2],color='r',alpha=0.5,label='normals',density=True)\n",
    "plt.legend()"
   ]
  },
  {
   "cell_type": "markdown",
   "metadata": {},
   "source": [
    "### mixup"
   ]
  },
  {
   "cell_type": "code",
   "execution_count": 29,
   "metadata": {},
   "outputs": [
    {
     "name": "stdout",
     "output_type": "stream",
     "text": [
      "The labels are converted into categorical\n",
      "The labels are converted into categorical\n",
      "The labels are converted into categorical\n",
      "The labels are converted into categorical\n",
      "The labels are converted into categorical\n",
      "The labels are converted into categorical\n",
      "The labels are converted into categorical\n",
      "The labels are converted into categorical\n",
      "The labels are converted into categorical\n",
      "The labels are converted into categorical\n"
     ]
    },
    {
     "data": {
      "text/plain": [
       "Text(0, 0.5, 'Human added on top 10')"
      ]
     },
     "execution_count": 29,
     "metadata": {},
     "output_type": "execute_result"
    },
    {
     "data": {
      "image/png": "[encoded data removed]",
      "text/plain": [
       "<Figure size 1008x360 with 2 Axes>"
      ]
     },
     "metadata": {
      "needs_background": "light"
     },
     "output_type": "display_data"
    }
   ],
   "source": [
    "# (x_train, y_train), (x_test, y_test) = tf.keras.datasets.mnist.load_data(path=\"mnist.npz\")\n",
    "# n_train = len(x_train)\n",
    "\n",
    "# print(x_test.shape, y_test.shape)\n",
    "# data_config = {0:800,1:900,2:0}\n",
    "\n",
    "# x_test, y_test, x_obs1, y_obs1 = data_prepare(x_test,y_test,data_config)\n",
    "# print(x_test.shape, y_test.shape,x_obs1.shape, y_obs1.shape)\n",
    "# print()\n",
    "# print()\n",
    "# print(x_train.shape, y_train.shape)\n",
    "# data_config = {0:4000,1:5000,2:200}\n",
    "# x_train, y_train, x_obs2, y_obs2 = data_prepare(x_train,y_train,data_config)\n",
    "# print(x_train.shape, y_train.shape, x_obs2.shape, y_obs2.shape)\n",
    "# x_obs1 = x_obs1[:,:,:,None]\n",
    "# x_obs2 = x_obs2[:,:,:,None]\n",
    "\n",
    "# noise = 0.1\n",
    "\n",
    "# x_obs1 = x_obs1/255\n",
    "# x_obs2 = x_obs2/255\n",
    "# x_obs1 += np.random.normal(0,noise,x_obs1.shape)\n",
    "# x_obs2 += np.random.normal(0,noise,x_obs2.shape)\n",
    "# outliers = [2]\n",
    "\n",
    "# n_class = describe_labels(y_obs1)\n",
    "# n_class = describe_labels(y_obs2)\n",
    "\n",
    "clf,drt = build_model(shape=(28*28),n_class=3,n_latent = 64)\n",
    "\n",
    "n_conf = 10\n",
    "x_obs1p = x_obs1.reshape(x_obs1.shape[0],-1)\n",
    "y_obs1p = y_obs1+0\n",
    "x_obs2p = x_obs2.reshape(x_obs2.shape[0],-1)\n",
    "y_obs2p = y_obs2+0\n",
    "\n",
    "rwss = []\n",
    "true_guess = []\n",
    "\n",
    "for _ in range(10):\n",
    "    xx,yy = mixup(x_obs1p,y_obs1p,alpha=5,beta=1,num_classes=n_class)\n",
    "    history = clf.fit(xx, yy, batch_size=256, epochs=epochs, validation_split=0.2,verbose=0)\n",
    "    acc = history.history['accuracy'][-1]\n",
    "\n",
    "    out2 = np.isin(y_obs2p,outliers)\n",
    "    z_clf = clf.predict(x_obs2p)\n",
    "    scr_ano = z_clf[:,n_class-1]\n",
    "    rws = rws_score(out2,scr_ano)\n",
    "    rwss.append(rws)\n",
    "\n",
    "    # This is where the human act\n",
    "    inds = np.intersect1d(np.argsort(scr_ano)[-n_conf:],np.argwhere(out2)[:,0])\n",
    "    true_guess.append(len(inds))\n",
    "    x_obs1p = np.concatenate([x_obs2p[inds],x_obs1p],axis=0)\n",
    "    y_obs1p = np.concatenate([y_obs2p[inds],y_obs1p],axis=0)\n",
    "\n",
    "    x_obs2p = np.delete(x_obs2p,inds,axis=0)\n",
    "    y_obs2p = np.delete(y_obs2p,inds,axis=0)\n",
    "\n",
    "fig,(ax1,ax2) = plt.subplots(1,2,figsize=(14,5))\n",
    "ax1.plot(rwss)\n",
    "ax1.set_ylabel('RWS',fontsize=15)\n",
    "ax2.plot(true_guess)\n",
    "ax2.set_ylabel('Human added on top 10',fontsize=15)"
   ]
  },
  {
   "cell_type": "code",
   "execution_count": 30,
   "metadata": {},
   "outputs": [
    {
     "data": {
      "text/plain": [
       "<matplotlib.legend.Legend at 0x7f074053ce10>"
      ]
     },
     "execution_count": 30,
     "metadata": {},
     "output_type": "execute_result"
    },
    {
     "data": {
      "image/png": "[encoded data removed]",
      "text/plain": [
       "<Figure size 432x288 with 1 Axes>"
      ]
     },
     "metadata": {
      "needs_background": "light"
     },
     "output_type": "display_data"
    }
   ],
   "source": [
    "plt.hist(scr_ano[out2],color='b',alpha=0.5,label='anomalies',density=True)\n",
    "plt.hist(scr_ano[~out2],color='r',alpha=0.5,label='normals',density=True)\n",
    "plt.legend()"
   ]
  },
  {
   "cell_type": "markdown",
   "metadata": {},
   "source": [
    "# if model resets everytime"
   ]
  },
  {
   "cell_type": "markdown",
   "metadata": {},
   "source": [
    "### augmentation"
   ]
  },
  {
   "cell_type": "code",
   "execution_count": 31,
   "metadata": {},
   "outputs": [
    {
     "data": {
      "text/plain": [
       "Text(0, 0.5, 'Human added on top 10')"
      ]
     },
     "execution_count": 31,
     "metadata": {},
     "output_type": "execute_result"
    },
    {
     "data": {
      "image/png": "[encoded data removed]",
      "text/plain": [
       "<Figure size 1008x360 with 2 Axes>"
      ]
     },
     "metadata": {
      "needs_background": "light"
     },
     "output_type": "display_data"
    }
   ],
   "source": [
    "n_conf = 10\n",
    "x_obs1p = x_obs1.reshape(x_obs1.shape[0],-1)\n",
    "y_obs1p = y_obs1+0\n",
    "x_obs2p = x_obs2.reshape(x_obs2.shape[0],-1)\n",
    "y_obs2p = y_obs2+0\n",
    "\n",
    "rwss = []\n",
    "true_guess = []\n",
    "\n",
    "for _ in range(10):\n",
    "    x_obs1p = x_obs1p.reshape(-1,28,28,1)\n",
    "    xx,yy = balance_aug(x_obs1p,y_obs1p,aug)\n",
    "    x_obs1p = x_obs1p.reshape(-1,784)\n",
    "    xx = xx.reshape(-1,784)\n",
    "    yy = keras.utils.to_categorical(yy, num_classes=n_class,)\n",
    "    clf,drt = build_model(shape=(28*28),n_class=3,n_latent = 64)\n",
    "    history = clf.fit(xx, yy, batch_size=256, epochs=epochs, validation_split=0.2,verbose=0)\n",
    "    acc = history.history['accuracy'][-1]\n",
    "\n",
    "    out2 = np.isin(y_obs2p,outliers)\n",
    "    z_clf = clf.predict(x_obs2p)\n",
    "    scr_ano = z_clf[:,n_class-1]\n",
    "    rws = rws_score(out2,scr_ano)\n",
    "\n",
    "#     print('acc:{:2.2f}, rws:{:2.2f}'.format(acc,rws))\n",
    "    rwss.append(rws)\n",
    "\n",
    "    # This is where the human act\n",
    "    inds = np.intersect1d(np.argsort(scr_ano)[-n_conf:],np.argwhere(out2)[:,0])\n",
    "    true_guess.append(len(inds))\n",
    "    x_obs1p = np.concatenate([x_obs2p[inds],x_obs1p],axis=0)\n",
    "    y_obs1p = np.concatenate([y_obs2p[inds],y_obs1p],axis=0)\n",
    "\n",
    "    x_obs2p = np.delete(x_obs2p,inds,axis=0)\n",
    "    y_obs2p = np.delete(y_obs2p,inds,axis=0)\n",
    "\n",
    "fig,(ax1,ax2) = plt.subplots(1,2,figsize=(14,5))\n",
    "ax1.plot(rwss)\n",
    "ax1.set_ylabel('RWS',fontsize=15)\n",
    "ax2.plot(true_guess)\n",
    "ax2.set_ylabel('Human added on top 10',fontsize=15)"
   ]
  },
  {
   "cell_type": "code",
   "execution_count": 32,
   "metadata": {},
   "outputs": [
    {
     "data": {
      "text/plain": [
       "<matplotlib.legend.Legend at 0x7f07205be510>"
      ]
     },
     "execution_count": 32,
     "metadata": {},
     "output_type": "execute_result"
    },
    {
     "data": {
      "image/png": "[encoded data removed]",
      "text/plain": [
       "<Figure size 432x288 with 1 Axes>"
      ]
     },
     "metadata": {
      "needs_background": "light"
     },
     "output_type": "display_data"
    }
   ],
   "source": [
    "plt.hist(scr_ano[out2],color='b',alpha=0.5,label='anomalies',density=True)\n",
    "plt.hist(scr_ano[~out2],color='r',alpha=0.5,label='normals',density=True)\n",
    "plt.legend()"
   ]
  },
  {
   "cell_type": "markdown",
   "metadata": {},
   "source": [
    "### mixup"
   ]
  },
  {
   "cell_type": "code",
   "execution_count": 33,
   "metadata": {},
   "outputs": [
    {
     "name": "stdout",
     "output_type": "stream",
     "text": [
      "The labels are converted into categorical\n",
      "The labels are converted into categorical\n",
      "The labels are converted into categorical\n",
      "The labels are converted into categorical\n",
      "The labels are converted into categorical\n",
      "The labels are converted into categorical\n",
      "The labels are converted into categorical\n",
      "The labels are converted into categorical\n",
      "The labels are converted into categorical\n",
      "The labels are converted into categorical\n"
     ]
    },
    {
     "data": {
      "text/plain": [
       "Text(0, 0.5, 'Human added on top 10')"
      ]
     },
     "execution_count": 33,
     "metadata": {},
     "output_type": "execute_result"
    },
    {
     "data": {
      "image/png": "[encoded data removed]",
      "text/plain": [
       "<Figure size 1008x360 with 2 Axes>"
      ]
     },
     "metadata": {
      "needs_background": "light"
     },
     "output_type": "display_data"
    }
   ],
   "source": [
    "n_conf = 10\n",
    "x_obs1p = x_obs1.reshape(x_obs1.shape[0],-1)\n",
    "y_obs1p = y_obs1+0\n",
    "x_obs2p = x_obs2.reshape(x_obs2.shape[0],-1)\n",
    "y_obs2p = y_obs2+0\n",
    "\n",
    "rwss = []\n",
    "true_guess = []\n",
    "\n",
    "for _ in range(10):\n",
    "    xx,yy = mixup(x_obs1p,y_obs1p,alpha=5,beta=1,num_classes=n_class)\n",
    "    clf,drt = build_model(shape=(28*28),n_class=3,n_latent = 64)\n",
    "    history = clf.fit(xx, yy, batch_size=256, epochs=epochs, validation_split=0.2,verbose=0)\n",
    "    acc = history.history['accuracy'][-1]\n",
    "\n",
    "    out2 = np.isin(y_obs2p,outliers)\n",
    "    z_clf = clf.predict(x_obs2p)\n",
    "    scr_ano = z_clf[:,n_class-1]\n",
    "    rws = rws_score(out2,scr_ano)\n",
    "    rwss.append(rws)\n",
    "\n",
    "    # This is where the human act\n",
    "    inds = np.intersect1d(np.argsort(scr_ano)[-n_conf:],np.argwhere(out2)[:,0])\n",
    "    true_guess.append(len(inds))\n",
    "    x_obs1p = np.concatenate([x_obs2p[inds],x_obs1p],axis=0)\n",
    "    y_obs1p = np.concatenate([y_obs2p[inds],y_obs1p],axis=0)\n",
    "\n",
    "    x_obs2p = np.delete(x_obs2p,inds,axis=0)\n",
    "    y_obs2p = np.delete(y_obs2p,inds,axis=0)\n",
    "\n",
    "fig,(ax1,ax2) = plt.subplots(1,2,figsize=(14,5))\n",
    "ax1.plot(rwss)\n",
    "ax1.set_ylabel('RWS',fontsize=15)\n",
    "ax2.plot(true_guess)\n",
    "ax2.set_ylabel('Human added on top 10',fontsize=15)"
   ]
  },
  {
   "cell_type": "code",
   "execution_count": 34,
   "metadata": {},
   "outputs": [
    {
     "data": {
      "text/plain": [
       "<matplotlib.legend.Legend at 0x7f07218d6050>"
      ]
     },
     "execution_count": 34,
     "metadata": {},
     "output_type": "execute_result"
    },
    {
     "data": {
      "image/png": "[encoded data removed]",
      "text/plain": [
       "<Figure size 432x288 with 1 Axes>"
      ]
     },
     "metadata": {
      "needs_background": "light"
     },
     "output_type": "display_data"
    }
   ],
   "source": [
    "plt.hist(scr_ano[out2],color='b',alpha=0.5,label='anomalies',density=True)\n",
    "plt.hist(scr_ano[~out2],color='r',alpha=0.5,label='normals',density=True)\n",
    "plt.legend()"
   ]
  },
  {
   "cell_type": "code",
   "execution_count": null,
   "metadata": {},
   "outputs": [],
   "source": []
  },
  {
   "cell_type": "code",
   "execution_count": null,
   "metadata": {},
   "outputs": [],
   "source": []
  },
  {
   "cell_type": "code",
   "execution_count": null,
   "metadata": {},
   "outputs": [],
   "source": []
  },
  {
   "cell_type": "code",
   "execution_count": null,
   "metadata": {},
   "outputs": [],
   "source": []
  },
  {
   "cell_type": "code",
   "execution_count": null,
   "metadata": {},
   "outputs": [],
   "source": []
  },
  {
   "cell_type": "code",
   "execution_count": null,
   "metadata": {},
   "outputs": [],
   "source": []
  },
  {
   "cell_type": "markdown",
   "metadata": {},
   "source": [
    "### stream of observation"
   ]
  },
  {
   "cell_type": "code",
   "execution_count": 10,
   "metadata": {},
   "outputs": [
    {
     "name": "stdout",
     "output_type": "stream",
     "text": [
      " ******** Our first dataset ******** \n",
      "labels/numbers are:\n",
      " 0    /   800\n",
      " 1    /   900\n",
      "\n",
      " ******** Observation begins ******** \n",
      "labels/numbers are:\n",
      " 0.0  /   350\n",
      " 1.0  /   400\n",
      " 2.0  /    15\n",
      "\n",
      "labels/numbers are:\n",
      " 0.0  /   700\n",
      " 1.0  /   800\n",
      " 2.0  /    30\n",
      "\n",
      "labels/numbers are:\n",
      " 0.0  /  1050\n",
      " 1.0  /  1200\n",
      " 2.0  /    45\n",
      "\n",
      "out of plan!\n",
      "labels/numbers are:\n",
      " 0.0  /  1050\n",
      " 1.0  /  1200\n",
      " 2.0  /    45\n",
      "\n",
      "out of plan!\n",
      "labels/numbers are:\n",
      " 0.0  /  1050\n",
      " 1.0  /  1200\n",
      " 2.0  /    45\n",
      "\n"
     ]
    }
   ],
   "source": [
    "class Observetory:\n",
    "    def __init__(self,plan,x,y):\n",
    "        self.plan = plan\n",
    "        self.x = x\n",
    "        self.y = y\n",
    "        self.x_obs = np.zeros( [0]+list(self.x.shape[1:]) )\n",
    "        self.y_obs = np.zeros( [0]+list(self.y.shape[1:]) )\n",
    "        self.num_obs = 0\n",
    "        self.n_plan = len(self.plan)\n",
    "#         self.new_obs()\n",
    "    def new_obs(self,safemode=False):\n",
    "        if self.num_obs==self.n_plan:\n",
    "            if safemode:\n",
    "                print('out of plan!')\n",
    "                return self.x_obs,self.y_obs\n",
    "            else:\n",
    "                assert 0,'No more plan!' \n",
    "        data_config = plan[self.num_obs]\n",
    "        self.x,self.y, x_obs, y_obs = data_prepare(self.x,self.y,data_config)\n",
    "        self.x_obs = np.concatenate([self.x_obs,x_obs],axis=0)\n",
    "        self.y_obs = np.concatenate([self.y_obs,y_obs],axis=0)\n",
    "#         print(self.x_obs.shape, self.y_obs.shape, self.x.shape, self.y.shape)\n",
    "        self.num_obs += 1\n",
    "        return self.x_obs,self.y_obs\n",
    "    def delete(self,inds):\n",
    "        self.x_obs = np.delete(self.x_obs,inds,axis=0)\n",
    "        self.y_obs = np.delete(self.y_obs,inds,axis=0)\n",
    "\n",
    "noise = 0.1\n",
    "(x_train, y_train), (x_test, y_test) = tf.keras.datasets.mnist.load_data(path=\"mnist.npz\")\n",
    "n_train = len(x_train)\n",
    "x_train = x_train/255\n",
    "x_test = x_test/255\n",
    "x_train += np.random.normal(0,noise,x_train.shape)\n",
    "x_test += np.random.normal(0,noise,x_test.shape)\n",
    "x_train = x_train[:,:,:,None]\n",
    "x_test = x_test[:,:,:,None]\n",
    "\n",
    "data_config = {0:800,1:900,2:0}\n",
    "plan = 3*[{0:350,1:400,2:15}]\n",
    "outliers = [2]\n",
    "\n",
    "print(' ******** Our first dataset ******** ')\n",
    "\n",
    "x_test, y_test, x_obs1, y_obs1 = data_prepare(x_test,y_test,data_config)\n",
    "n_class = describe_labels(y_obs1)\n",
    "\n",
    "print(' ******** Observation begins ******** ')\n",
    "obs = Observetory(plan,x_train,y_train)\n",
    "x_obs2,y_obs2 = obs.new_obs()\n",
    "n_class = describe_labels(y_obs2)\n",
    "\n",
    "for _ in range(obs.n_plan+1):\n",
    "    x_obs,y_obs = obs.new_obs(safemode=1)\n",
    "    n_class = describe_labels(y_obs)"
   ]
  },
  {
   "cell_type": "code",
   "execution_count": 11,
   "metadata": {},
   "outputs": [
    {
     "name": "stdout",
     "output_type": "stream",
     "text": [
      " ******** Our first dataset ******** \n",
      "labels/numbers are:\n",
      " 0    /   800\n",
      " 1    /   900\n",
      "\n",
      " ******** Observation begins ******** \n",
      "NEW OBS:\n",
      "labels/numbers are:\n",
      " 0.0  /   170\n",
      " 1.0  /   200\n",
      " 2.0  /     7\n",
      "\n",
      "HUMAN: 1 new outliers are detected!\n",
      "DATASET is extended to:\n",
      "labels/numbers are:\n",
      " 0.0  /   800\n",
      " 1.0  /   900\n",
      " 2.0  /     1\n",
      "\n",
      "NEW OBS:\n",
      "labels/numbers are:\n",
      " 0.0  /   340\n",
      " 1.0  /   400\n",
      " 2.0  /    13\n",
      "\n",
      "HUMAN: 3 new outliers are detected!\n",
      "DATASET is extended to:\n",
      "labels/numbers are:\n",
      " 0.0  /   800\n",
      " 1.0  /   900\n",
      " 2.0  /     4\n",
      "\n",
      "NEW OBS:\n",
      "labels/numbers are:\n",
      " 0.0  /   510\n",
      " 1.0  /   600\n",
      " 2.0  /    17\n",
      "\n",
      "HUMAN: 4 new outliers are detected!\n",
      "DATASET is extended to:\n",
      "labels/numbers are:\n",
      " 0.0  /   800\n",
      " 1.0  /   900\n",
      " 2.0  /     8\n",
      "\n",
      "NEW OBS:\n",
      "labels/numbers are:\n",
      " 0.0  /   680\n",
      " 1.0  /   800\n",
      " 2.0  /    20\n",
      "\n",
      "HUMAN: 4 new outliers are detected!\n",
      "DATASET is extended to:\n",
      "labels/numbers are:\n",
      " 0.0  /   800\n",
      " 1.0  /   900\n",
      " 2.0  /    12\n",
      "\n",
      "NEW OBS:\n",
      "labels/numbers are:\n",
      " 0.0  /   850\n",
      " 1.0  /  1000\n",
      " 2.0  /    23\n",
      "\n",
      "HUMAN: 4 new outliers are detected!\n",
      "DATASET is extended to:\n",
      "labels/numbers are:\n",
      " 0.0  /   800\n",
      " 1.0  /   900\n",
      " 2.0  /    16\n",
      "\n",
      "NEW OBS:\n",
      "labels/numbers are:\n",
      " 0.0  /  1020\n",
      " 1.0  /  1200\n",
      " 2.0  /    26\n",
      "\n",
      "HUMAN: 4 new outliers are detected!\n",
      "DATASET is extended to:\n",
      "labels/numbers are:\n",
      " 0.0  /   800\n",
      " 1.0  /   900\n",
      " 2.0  /    20\n",
      "\n",
      "NEW OBS:\n",
      "labels/numbers are:\n",
      " 0.0  /  1190\n",
      " 1.0  /  1400\n",
      " 2.0  /    29\n",
      "\n",
      "HUMAN: 4 new outliers are detected!\n",
      "DATASET is extended to:\n",
      "labels/numbers are:\n",
      " 0.0  /   800\n",
      " 1.0  /   900\n",
      " 2.0  /    24\n",
      "\n",
      "NEW OBS:\n",
      "labels/numbers are:\n",
      " 0.0  /  1360\n",
      " 1.0  /  1600\n",
      " 2.0  /    32\n",
      "\n",
      "HUMAN: 4 new outliers are detected!\n",
      "DATASET is extended to:\n",
      "labels/numbers are:\n",
      " 0.0  /   800\n",
      " 1.0  /   900\n",
      " 2.0  /    28\n",
      "\n",
      "NEW OBS:\n",
      "labels/numbers are:\n",
      " 0.0  /  1530\n",
      " 1.0  /  1800\n",
      " 2.0  /    35\n",
      "\n",
      "HUMAN: 4 new outliers are detected!\n",
      "DATASET is extended to:\n",
      "labels/numbers are:\n",
      " 0.0  /   800\n",
      " 1.0  /   900\n",
      " 2.0  /    32\n",
      "\n",
      "NEW OBS:\n",
      "labels/numbers are:\n",
      " 0.0  /  1700\n",
      " 1.0  /  2000\n",
      " 2.0  /    38\n",
      "\n",
      "HUMAN: 4 new outliers are detected!\n",
      "DATASET is extended to:\n",
      "labels/numbers are:\n",
      " 0.0  /   800\n",
      " 1.0  /   900\n",
      " 2.0  /    36\n",
      "\n",
      "NEW OBS:\n",
      "labels/numbers are:\n",
      " 0.0  /  1870\n",
      " 1.0  /  2200\n",
      " 2.0  /    41\n",
      "\n",
      "HUMAN: 4 new outliers are detected!\n",
      "DATASET is extended to:\n",
      "labels/numbers are:\n",
      " 0.0  /   800\n",
      " 1.0  /   900\n",
      " 2.0  /    40\n",
      "\n",
      "NEW OBS:\n",
      "labels/numbers are:\n",
      " 0.0  /  2040\n",
      " 1.0  /  2400\n",
      " 2.0  /    44\n",
      "\n",
      "HUMAN: 4 new outliers are detected!\n",
      "DATASET is extended to:\n",
      "labels/numbers are:\n",
      " 0.0  /   800\n",
      " 1.0  /   900\n",
      " 2.0  /    44\n",
      "\n",
      "NEW OBS:\n",
      "labels/numbers are:\n",
      " 0.0  /  2210\n",
      " 1.0  /  2600\n",
      " 2.0  /    47\n",
      "\n",
      "HUMAN: 3 new outliers are detected!\n",
      "DATASET is extended to:\n",
      "labels/numbers are:\n",
      " 0.0  /   800\n",
      " 1.0  /   900\n",
      " 2.0  /    47\n",
      "\n",
      "NEW OBS:\n",
      "labels/numbers are:\n",
      " 0.0  /  2380\n",
      " 1.0  /  2800\n",
      " 2.0  /    51\n",
      "\n",
      "HUMAN: 4 new outliers are detected!\n",
      "DATASET is extended to:\n",
      "labels/numbers are:\n",
      " 0.0  /   800\n",
      " 1.0  /   900\n",
      " 2.0  /    51\n",
      "\n",
      "NEW OBS:\n",
      "labels/numbers are:\n",
      " 0.0  /  2550\n",
      " 1.0  /  3000\n",
      " 2.0  /    54\n",
      "\n",
      "HUMAN: 4 new outliers are detected!\n",
      "DATASET is extended to:\n",
      "labels/numbers are:\n",
      " 0.0  /   800\n",
      " 1.0  /   900\n",
      " 2.0  /    55\n",
      "\n",
      "NEW OBS:\n",
      "labels/numbers are:\n",
      " 0.0  /  2720\n",
      " 1.0  /  3200\n",
      " 2.0  /    57\n",
      "\n",
      "HUMAN: 3 new outliers are detected!\n",
      "DATASET is extended to:\n",
      "labels/numbers are:\n",
      " 0.0  /   800\n",
      " 1.0  /   900\n",
      " 2.0  /    58\n",
      "\n",
      "NEW OBS:\n",
      "labels/numbers are:\n",
      " 0.0  /  2890\n",
      " 1.0  /  3400\n",
      " 2.0  /    61\n",
      "\n",
      "HUMAN: 5 new outliers are detected!\n",
      "DATASET is extended to:\n",
      "labels/numbers are:\n",
      " 0.0  /   800\n",
      " 1.0  /   900\n",
      " 2.0  /    63\n",
      "\n",
      "NEW OBS:\n",
      "labels/numbers are:\n",
      " 0.0  /  3060\n",
      " 1.0  /  3600\n",
      " 2.0  /    63\n",
      "\n",
      "HUMAN: 5 new outliers are detected!\n",
      "DATASET is extended to:\n",
      "labels/numbers are:\n",
      " 0.0  /   800\n",
      " 1.0  /   900\n",
      " 2.0  /    68\n",
      "\n",
      "NEW OBS:\n",
      "labels/numbers are:\n",
      " 0.0  /  3230\n",
      " 1.0  /  3800\n",
      " 2.0  /    65\n",
      "\n",
      "HUMAN: 4 new outliers are detected!\n",
      "DATASET is extended to:\n",
      "labels/numbers are:\n",
      " 0.0  /   800\n",
      " 1.0  /   900\n",
      " 2.0  /    72\n",
      "\n",
      "NEW OBS:\n",
      "labels/numbers are:\n",
      " 0.0  /  3400\n",
      " 1.0  /  4000\n",
      " 2.0  /    68\n",
      "\n",
      "HUMAN: 3 new outliers are detected!\n",
      "DATASET is extended to:\n",
      "labels/numbers are:\n",
      " 0.0  /   800\n",
      " 1.0  /   900\n",
      " 2.0  /    75\n",
      "\n",
      "out of plan!\n",
      "NEW OBS:\n",
      "labels/numbers are:\n",
      " 0.0  /  3400\n",
      " 1.0  /  4000\n",
      " 2.0  /    65\n",
      "\n",
      "HUMAN: 2 new outliers are detected!\n",
      "DATASET is extended to:\n",
      "labels/numbers are:\n",
      " 0.0  /   800\n",
      " 1.0  /   900\n",
      " 2.0  /    77\n",
      "\n",
      "out of plan!\n",
      "NEW OBS:\n",
      "labels/numbers are:\n",
      " 0.0  /  3400\n",
      " 1.0  /  4000\n",
      " 2.0  /    63\n",
      "\n",
      "HUMAN: 3 new outliers are detected!\n",
      "DATASET is extended to:\n",
      "labels/numbers are:\n",
      " 0.0  /   800\n",
      " 1.0  /   900\n",
      " 2.0  /    80\n",
      "\n",
      "out of plan!\n",
      "NEW OBS:\n",
      "labels/numbers are:\n",
      " 0.0  /  3400\n",
      " 1.0  /  4000\n",
      " 2.0  /    60\n",
      "\n",
      "HUMAN: 2 new outliers are detected!\n",
      "DATASET is extended to:\n",
      "labels/numbers are:\n",
      " 0.0  /   800\n",
      " 1.0  /   900\n",
      " 2.0  /    82\n",
      "\n",
      "out of plan!\n",
      "NEW OBS:\n",
      "labels/numbers are:\n",
      " 0.0  /  3400\n",
      " 1.0  /  4000\n",
      " 2.0  /    58\n",
      "\n",
      "HUMAN: 3 new outliers are detected!\n",
      "DATASET is extended to:\n",
      "labels/numbers are:\n",
      " 0.0  /   800\n",
      " 1.0  /   900\n",
      " 2.0  /    85\n",
      "\n",
      "out of plan!\n",
      "NEW OBS:\n",
      "labels/numbers are:\n",
      " 0.0  /  3400\n",
      " 1.0  /  4000\n",
      " 2.0  /    55\n",
      "\n",
      "HUMAN: 3 new outliers are detected!\n",
      "DATASET is extended to:\n",
      "labels/numbers are:\n",
      " 0.0  /   800\n",
      " 1.0  /   900\n",
      " 2.0  /    88\n",
      "\n",
      "out of plan!\n",
      "NEW OBS:\n",
      "labels/numbers are:\n",
      " 0.0  /  3400\n",
      " 1.0  /  4000\n",
      " 2.0  /    52\n",
      "\n",
      "HUMAN: 1 new outliers are detected!\n",
      "DATASET is extended to:\n",
      "labels/numbers are:\n",
      " 0.0  /   800\n",
      " 1.0  /   900\n",
      " 2.0  /    89\n",
      "\n",
      "out of plan!\n",
      "NEW OBS:\n",
      "labels/numbers are:\n",
      " 0.0  /  3400\n",
      " 1.0  /  4000\n",
      " 2.0  /    51\n",
      "\n",
      "HUMAN: 0 new outliers are detected!\n",
      "DATASET is extended to:\n",
      "labels/numbers are:\n",
      " 0.0  /   800\n",
      " 1.0  /   900\n",
      " 2.0  /    89\n",
      "\n",
      "out of plan!\n",
      "NEW OBS:\n",
      "labels/numbers are:\n",
      " 0.0  /  3400\n",
      " 1.0  /  4000\n",
      " 2.0  /    51\n",
      "\n",
      "HUMAN: 1 new outliers are detected!\n",
      "DATASET is extended to:\n",
      "labels/numbers are:\n",
      " 0.0  /   800\n",
      " 1.0  /   900\n",
      " 2.0  /    90\n",
      "\n",
      "out of plan!\n",
      "NEW OBS:\n",
      "labels/numbers are:\n",
      " 0.0  /  3400\n",
      " 1.0  /  4000\n",
      " 2.0  /    50\n",
      "\n",
      "HUMAN: 1 new outliers are detected!\n",
      "DATASET is extended to:\n",
      "labels/numbers are:\n",
      " 0.0  /   800\n",
      " 1.0  /   900\n",
      " 2.0  /    91\n",
      "\n",
      "out of plan!\n",
      "NEW OBS:\n",
      "labels/numbers are:\n",
      " 0.0  /  3400\n",
      " 1.0  /  4000\n",
      " 2.0  /    49\n",
      "\n",
      "HUMAN: 1 new outliers are detected!\n",
      "DATASET is extended to:\n",
      "labels/numbers are:\n",
      " 0.0  /   800\n",
      " 1.0  /   900\n",
      " 2.0  /    92\n",
      "\n"
     ]
    }
   ],
   "source": [
    "epochs = 5\n",
    "noise = 0.1\n",
    "(x_train, y_train), (x_test, y_test) = tf.keras.datasets.mnist.load_data(path=\"mnist.npz\")\n",
    "n_train = len(x_train)\n",
    "x_train = x_train/255\n",
    "x_test = x_test/255\n",
    "x_train += np.random.normal(0,noise,x_train.shape)\n",
    "x_test += np.random.normal(0,noise,x_test.shape)\n",
    "x_train = x_train[:,:,:,None]\n",
    "x_test = x_test[:,:,:,None]\n",
    "\n",
    "clf,drt = build_model(shape=(28*28),n_class=3,n_latent = 64)\n",
    "\n",
    "n_conf = 5\n",
    "\n",
    "data_config = {0:800,1:900,2:0}\n",
    "plan = 20*[{0:170,1:200,2:7}]\n",
    "outliers = [2]\n",
    "\n",
    "print(' ******** Our first dataset ******** ')\n",
    "\n",
    "x_test, y_test, x_obs1, y_obs1 = data_prepare(x_test,y_test,data_config)\n",
    "n_class = describe_labels(y_obs1)\n",
    "x_obs1p = x_obs1.reshape(x_obs1.shape[0],-1)\n",
    "y_obs1p = y_obs1+0\n",
    "\n",
    "print(' ******** Observation begins ******** ')\n",
    "obs = Observetory(plan,x_train,y_train)\n",
    "\n",
    "rws_nn = []\n",
    "rws_if1 = []\n",
    "rws_if2 = []\n",
    "true_guess = []\n",
    "ress = []\n",
    "\n",
    "for _ in range(obs.n_plan+10):\n",
    "    x_obs2,y_obs2 = obs.new_obs(safemode=1)\n",
    "    print('NEW OBS:')\n",
    "    n_class = describe_labels(y_obs2)\n",
    "\n",
    "    x_obs2p = x_obs2.reshape(x_obs2.shape[0],-1)\n",
    "    y_obs2p = y_obs2+0\n",
    "    out2 = np.isin(y_obs2p,outliers)\n",
    "    \n",
    "    isof = IsolationForest()\n",
    "    isof.fit(x_obs1.reshape(-1,784))\n",
    "    s1 = isof.decision_function(x_obs2p.reshape(-1,784))\n",
    "    s1 = s1.max()-s1\n",
    "    rws = rws_score(out2,s1)\n",
    "    rws_if1.append(rws)\n",
    "   \n",
    "    isof = IsolationForest()\n",
    "    isof.fit(x_obs2p.reshape(-1,784))\n",
    "    s2 = isof.decision_function(x_obs2p.reshape(-1,784))\n",
    "    s2 = s2.max()-s2\n",
    "    rws = rws_score(out2,s2)\n",
    "    rws_if2.append(rws)\n",
    "\n",
    "    x_obs1p = x_obs1p.reshape(-1,28,28,1)\n",
    "    xx,yy = balance_aug(x_obs1p,y_obs1p,aug)\n",
    "    x_obs1p = x_obs1p.reshape(-1,784)\n",
    "    xx = xx.reshape(-1,784)\n",
    "    yy = keras.utils.to_categorical(yy, num_classes=n_class,)\n",
    "    history = clf.fit(xx, yy, batch_size=256, epochs=epochs, validation_split=0.2,verbose=0)\n",
    "#     acc = history.history['accuracy'][-1]\n",
    "\n",
    "    z_clf = clf.predict(x_obs2p)\n",
    "    scr_ano = z_clf[:,n_class-1]\n",
    "    rws = rws_score(out2,scr_ano)\n",
    "\n",
    "#     print('acc:{:2.2f}, rws:{:2.2f}'.format(acc,rws))\n",
    "    rws_nn.append(rws)\n",
    "\n",
    "    # This is where the human act\n",
    "    inds = np.intersect1d(np.argsort(scr_ano)[-n_conf:],np.argwhere(out2)[:,0])\n",
    "    true_guess.append(len(inds))\n",
    "    x_obs1p = np.concatenate([x_obs2p[inds],x_obs1p],axis=0)\n",
    "    y_obs1p = np.concatenate([y_obs2p[inds],y_obs1p],axis=0)\n",
    "    \n",
    "    print('HUMAN: {} new outliers are detected!'.format(len(inds)))\n",
    "    print('DATASET is extended to:')\n",
    "    describe_labels(y_obs1p)\n",
    "    ress.append([out2,s1,s2,scr_ano])\n",
    "#     print(y_obs1p)\n",
    "\n",
    "#     x_obs2p = np.delete(x_obs2p,inds,axis=0)\n",
    "#     y_obs2p = np.delete(y_obs2p,inds,axis=0)\n",
    "    obs.delete(inds)\n",
    "\n",
    "# fig,(ax1,ax2) = plt.subplots(1,2,figsize=(14,5))\n",
    "# ax1.plot(rwss)\n",
    "# ax1.set_ylabel('RWS',fontsize=15)\n",
    "# ax2.plot(true_guess)\n",
    "# ax2.set_ylabel('Human added on top 10',fontsize=15)"
   ]
  },
  {
   "cell_type": "code",
   "execution_count": 9,
   "metadata": {},
   "outputs": [
    {
     "data": {
      "image/png": "[encoded data removed]",
      "text/plain": [
       "<Figure size 1008x360 with 2 Axes>"
      ]
     },
     "metadata": {
      "needs_background": "light"
     },
     "output_type": "display_data"
    }
   ],
   "source": [
    "fig,(ax1,ax2) = plt.subplots(1,2,figsize=(14,5))\n",
    "ax1.plot(rws_nn,'b',label='NN-HiL')\n",
    "ax1.plot(rws_if1,'r',label='iforest1')\n",
    "ax1.plot(rws_if2,'g',label='iforest2')\n",
    "ax1.set_xlabel('night',fontsize=15)\n",
    "ax1.set_ylabel('RWS',fontsize=15)\n",
    "ax2.plot(true_guess)\n",
    "ax2.set_xlabel('night',fontsize=15)\n",
    "ax2.set_ylabel('Human added on top {}'.format(n_conf),fontsize=15)\n",
    "ax1.legend(fontsize=13)\n",
    "plt.savefig('result.jpg',dpi=150)"
   ]
  },
  {
   "cell_type": "code",
   "execution_count": null,
   "metadata": {},
   "outputs": [],
   "source": []
  },
  {
   "cell_type": "code",
   "execution_count": null,
   "metadata": {},
   "outputs": [],
   "source": []
  },
  {
   "cell_type": "code",
   "execution_count": null,
   "metadata": {},
   "outputs": [],
   "source": []
  },
  {
   "cell_type": "code",
   "execution_count": null,
   "metadata": {},
   "outputs": [],
   "source": []
  },
  {
   "cell_type": "code",
   "execution_count": null,
   "metadata": {},
   "outputs": [],
   "source": []
  },
  {
   "cell_type": "code",
   "execution_count": null,
   "metadata": {},
   "outputs": [],
   "source": []
  },
  {
   "cell_type": "code",
   "execution_count": null,
   "metadata": {},
   "outputs": [],
   "source": []
  },
  {
   "cell_type": "code",
   "execution_count": null,
   "metadata": {},
   "outputs": [],
   "source": []
  },
  {
   "cell_type": "code",
   "execution_count": null,
   "metadata": {},
   "outputs": [],
   "source": []
  },
  {
   "cell_type": "code",
   "execution_count": null,
   "metadata": {},
   "outputs": [],
   "source": []
  },
  {
   "cell_type": "code",
   "execution_count": null,
   "metadata": {},
   "outputs": [],
   "source": []
  },
  {
   "cell_type": "code",
   "execution_count": null,
   "metadata": {},
   "outputs": [],
   "source": []
  },
  {
   "cell_type": "code",
   "execution_count": null,
   "metadata": {},
   "outputs": [],
   "source": []
  },
  {
   "cell_type": "code",
   "execution_count": null,
   "metadata": {},
   "outputs": [],
   "source": []
  },
  {
   "cell_type": "code",
   "execution_count": null,
   "metadata": {},
   "outputs": [],
   "source": []
  },
  {
   "cell_type": "code",
   "execution_count": null,
   "metadata": {},
   "outputs": [],
   "source": []
  },
  {
   "cell_type": "markdown",
   "metadata": {
    "id": "iZf5rXnIR5xk"
   },
   "source": [
    "# You are entering the under-construction zone!"
   ]
  },
  {
   "cell_type": "code",
   "execution_count": null,
   "metadata": {
    "id": "SGAeuiFn3nHN"
   },
   "outputs": [],
   "source": [
    "x_train = x_train.reshape(-1, 784).astype(\"float32\") / 255\n",
    "\n",
    "\n",
    "inputs = keras.Input(shape=(784,))\n",
    "# Just for demonstration purposes.\n",
    "\n",
    "inp = keras.Input(shape=(28, 28, 1), name=\"img\")\n",
    "x = layers.Conv2D(16, 3, activation=\"relu\")(inp)\n",
    "x = layers.Conv2D(32, 3, activation=\"relu\")(x)\n",
    "x = layers.MaxPooling2D(3)(x)\n",
    "x = layers.Conv2D(32, 3, activation=\"relu\")(x)\n",
    "x = layers.Conv2D(16, 3, activation=\"relu\")(x)\n",
    "encoder_output = layers.GlobalMaxPooling2D()(x)\n",
    "\n",
    "clf = keras.Model(encoder_input, encoder_output, name=\"encoder\")\n",
    "clf.summary()\n",
    "\n",
    "\n",
    "\n",
    "\n",
    "\n",
    "\n",
    "model.compile(\n",
    "    loss=keras.losses.SparseCategoricalCrossentropy(from_logits=True),\n",
    "    optimizer=keras.optimizers.RMSprop(),\n",
    "    metrics=[\"accuracy\"],\n",
    ")\n",
    "\n",
    "history = model.fit(x_train, y_train, batch_size=64, epochs=2, validation_split=0.2)\n",
    "\n",
    "test_scores = model.evaluate(x_test, y_test, verbose=2)\n",
    "print(\"Test loss:\", test_scores[0])\n",
    "print(\"Test accuracy:\", test_scores[1])\n"
   ]
  },
  {
   "cell_type": "code",
   "execution_count": null,
   "metadata": {
    "id": "EFLOnm1A1I3e"
   },
   "outputs": [],
   "source": [
    "inputs = keras.Input(shape=(784,))\n",
    "# Just for demonstration purposes.\n",
    "\n",
    "\n",
    "\n",
    "inp = keras.Input(shape=(28, 28, 1), name=\"img\")\n",
    "x = layers.Conv2D(16, 3, activation=\"relu\")(inp)\n",
    "x = layers.Conv2D(32, 3, activation=\"relu\")(x)\n",
    "x = layers.MaxPooling2D(3)(x)\n",
    "x = layers.Conv2D(32, 3, activation=\"relu\")(x)\n",
    "x = layers.Conv2D(16, 3, activation=\"relu\")(x)\n",
    "encoder_output = layers.GlobalMaxPooling2D()(x)\n",
    "\n",
    "encoder = keras.Model(encoder_input, encoder_output, name=\"encoder\")\n",
    "encoder.summary()\n",
    "\n",
    "x = layers.Reshape((4, 4, 1))(encoder_output)\n",
    "x = layers.Conv2DTranspose(16, 3, activation=\"relu\")(x)\n",
    "x = layers.Conv2DTranspose(32, 3, activation=\"relu\")(x)\n",
    "x = layers.UpSampling2D(3)(x)\n",
    "x = layers.Conv2DTranspose(16, 3, activation=\"relu\")(x)\n",
    "decoder_output = layers.Conv2DTranspose(1, 3, activation=\"relu\")(x)\n",
    "\n",
    "autoencoder = keras.Model(encoder_input, decoder_output, name=\"autoencoder\")\n",
    "autoencoder.summary()\n"
   ]
  }
 ],
 "metadata": {
  "colab": {
   "collapsed_sections": [],
   "name": "Anomaly_pilot.ipynb",
   "provenance": []
  },
  "kernelspec": {
   "display_name": "Python 3",
   "language": "python",
   "name": "python3"
  },
  "language_info": {
   "codemirror_mode": {
    "name": "ipython",
    "version": 3
   },
   "file_extension": ".py",
   "mimetype": "text/x-python",
   "name": "python",
   "nbconvert_exporter": "python",
   "pygments_lexer": "ipython3",
   "version": "3.7.7"
  }
 },
 "nbformat": 4,
 "nbformat_minor": 4
}
